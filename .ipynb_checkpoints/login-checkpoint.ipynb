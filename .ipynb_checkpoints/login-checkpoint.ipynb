{
 "cells": [
  {
   "cell_type": "code",
   "execution_count": 1,
   "id": "bccb694a-e494-4c1d-8932-c138066fad5e",
   "metadata": {},
   "outputs": [],
   "source": [
    "import ipywidgets as widgets\n",
    "from IPython.display import display, HTML"
   ]
  },
  {
   "cell_type": "code",
   "execution_count": 84,
   "id": "cf4643bd-b6ed-4d9d-8a04-1499de769322",
   "metadata": {},
   "outputs": [
    {
     "data": {
      "text/html": [
       "<h1 style =\"margin-left: 400px\">Medtech Parkinsons Detector</h1>,<style>margin-left = 500px</style>"
      ],
      "text/plain": [
       "<IPython.core.display.HTML object>"
      ]
     },
     "metadata": {},
     "output_type": "display_data"
    }
   ],
   "source": [
    "display(HTML('<h1 style =\"margin-left: 400px\">Medtech Parkinsons Detector</h1>,<style>margin-left = 500px</style>'))\n",
    "\n",
    "username = 'admin'\n",
    "password = 'admin'"
   ]
  },
  {
   "cell_type": "code",
   "execution_count": 3,
   "id": "8aaa6ed1-d993-4e8d-a42b-2216699c16d2",
   "metadata": {},
   "outputs": [],
   "source": [
    "username_text = widgets.Text(description = 'Username')\n",
    "password_text = widgets.Text(description = 'Password')\n",
    "log_in_btn = widgets.Button(description = 'Log in')\n",
    "cancel_btn = widgets.Button(description = 'Cancel')\n",
    "output = widgets.Output()"
   ]
  },
  {
   "cell_type": "code",
   "execution_count": 4,
   "id": "ef9a2bd6-fdc9-44a5-8625-7fefe8c0c1fd",
   "metadata": {},
   "outputs": [],
   "source": [
    "def on_login_click(b):\n",
    "    with output:\n",
    "        if username_text.value == username and password_text.value == password:\n",
    "            %run ./detector.ipynb\n",
    "        elif username_text.value != username:\n",
    "            print('Username is not correct')\n",
    "        elif password_text.value != password:\n",
    "            print('Password is not correct')\n",
    "            \n",
    "log_in_btn.on_click(on_login_click)"
   ]
  },
  {
   "cell_type": "code",
   "execution_count": 80,
   "id": "a8b3de64",
   "metadata": {},
   "outputs": [],
   "source": [
    "login_display = widgets.VBox([username_text, password_text], layout = widgets.Layout(margin = '0px 0px 0px 400px'))\n",
    "button_display = widgets.VBox([log_in_btn, cancel_btn], layout = widgets.Layout(margin = '0px 0px 0px 500px'))\n"
   ]
  },
  {
   "cell_type": "code",
   "execution_count": 81,
   "id": "0c719958-ef56-41ec-8f13-733816841b7e",
   "metadata": {},
   "outputs": [
    {
     "data": {
      "application/vnd.jupyter.widget-view+json": {
       "model_id": "d76efca306a749969d66aa107fa9e243",
       "version_major": 2,
       "version_minor": 0
      },
      "text/plain": [
       "VBox(children=(Text(value='', description='Username'), Text(value='', description='Password')), layout=Layout(…"
      ]
     },
     "metadata": {},
     "output_type": "display_data"
    },
    {
     "data": {
      "application/vnd.jupyter.widget-view+json": {
       "model_id": "d28644a3cc524d91b25517e666479f0d",
       "version_major": 2,
       "version_minor": 0
      },
      "text/plain": [
       "VBox(children=(Button(description='Log in', style=ButtonStyle()), Button(description='Cancel', style=ButtonSty…"
      ]
     },
     "metadata": {},
     "output_type": "display_data"
    },
    {
     "data": {
      "application/vnd.jupyter.widget-view+json": {
       "model_id": "dd14451ac5104457b83f56c17ddc3ee2",
       "version_major": 2,
       "version_minor": 0
      },
      "text/plain": [
       "Output()"
      ]
     },
     "metadata": {},
     "output_type": "display_data"
    }
   ],
   "source": [
    "display(login_display, button_display, output)"
   ]
  },
  {
   "cell_type": "code",
   "execution_count": null,
   "id": "508cc848-99f1-42be-a09a-38db1f9fe9b9",
   "metadata": {},
   "outputs": [],
   "source": []
  },
  {
   "cell_type": "code",
   "execution_count": null,
   "id": "16a0f285-24af-43cc-a02a-aca8d8167505",
   "metadata": {},
   "outputs": [],
   "source": []
  },
  {
   "cell_type": "code",
   "execution_count": null,
   "id": "33137d57-97fb-4b19-b288-dcaa94e925b3",
   "metadata": {},
   "outputs": [],
   "source": []
  }
 ],
 "metadata": {
  "kernelspec": {
   "display_name": "Python 3 (ipykernel)",
   "language": "python",
   "name": "python3"
  },
  "language_info": {
   "codemirror_mode": {
    "name": "ipython",
    "version": 3
   },
   "file_extension": ".py",
   "mimetype": "text/x-python",
   "name": "python",
   "nbconvert_exporter": "python",
   "pygments_lexer": "ipython3",
   "version": "3.9.6"
  }
 },
 "nbformat": 4,
 "nbformat_minor": 5
}
